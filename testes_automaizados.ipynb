{
 "cells": [
  {
   "cell_type": "markdown",
   "metadata": {},
   "source": [
    "# Testes automatizados"
   ]
  },
  {
   "cell_type": "markdown",
   "metadata": {},
   "source": [
    "Existem varios frameworks sofisticados para escrever e executar testes, mas para nossos estudos usaremos as instruções assert para que o código gere um assertError caso uma condição não seja satisfeita: "
   ]
  },
  {
   "cell_type": "code",
   "execution_count": 8,
   "metadata": {},
   "outputs": [],
   "source": [
    "assert 1+1 == 2\n",
    "assert 1 + 1 == 2, \"1 + 1 should equal 2 but didnt't\" "
   ]
  },
  {
   "cell_type": "code",
   "execution_count": null,
   "metadata": {},
   "outputs": [],
   "source": [
    "def smallest_item(xs):\n",
    "     return min(xs)\n",
    "\n",
    "assert smallest_item([10,20,5,40]) == 5 # retorna 5, se mudar o resultado para 6, \n",
    "#o teste falha e um assertError é disparado\n",
    "assert smallest_item([1, 0, -1, 2]) == -1 # retorna -1, se mudar o resultado para 0,\n",
    "#o teste falha e um assertError é disparado"
   ]
  },
  {
   "cell_type": "code",
   "execution_count": null,
   "metadata": {},
   "outputs": [],
   "source": []
  }
 ],
 "metadata": {
  "kernelspec": {
   "display_name": ".venv",
   "language": "python",
   "name": "python3"
  },
  "language_info": {
   "codemirror_mode": {
    "name": "ipython",
    "version": 3
   },
   "file_extension": ".py",
   "mimetype": "text/x-python",
   "name": "python",
   "nbconvert_exporter": "python",
   "pygments_lexer": "ipython3",
   "version": "3.9.6"
  }
 },
 "nbformat": 4,
 "nbformat_minor": 2
}

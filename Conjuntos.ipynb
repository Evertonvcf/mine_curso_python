{
 "cells": [
  {
   "cell_type": "markdown",
   "metadata": {},
   "source": [
    "Outra estrutura de dados útil é o set ( conjunto), uma coleção de elemetos distintos. Para um conjunto, você pode listar seus elementos entre chaves:"
   ]
  },
  {
   "cell_type": "code",
   "execution_count": 1,
   "metadata": {},
   "outputs": [
    {
     "name": "stdout",
     "output_type": "stream",
     "text": [
      "{2, 3, 5, 7}\n"
     ]
    }
   ],
   "source": [
    "primes_below_10 = {2, 3, 5, 7} #Esse éum conjunto ou (set)\n",
    "print(primes_below_10)"
   ]
  },
  {
   "cell_type": "markdown",
   "metadata": {},
   "source": [
    "No entanto, isso não funciona com conjuntos vazios, pois {} significa \"dict vazio\". Nesse caso devemos usar o set()."
   ]
  },
  {
   "cell_type": "code",
   "execution_count": 2,
   "metadata": {},
   "outputs": [
    {
     "name": "stdout",
     "output_type": "stream",
     "text": [
      "2 False False\n"
     ]
    }
   ],
   "source": [
    "s = set()\n",
    "s.add(\"1\") # adiciona o número 1 ao conjunto\n",
    "s.add(\"2\") # adiciona o número 2 ao conjunto\n",
    "s.add(\"2\") # adiciona o número 3 ao conjunto\n",
    "x = len(s)  # conta o número de elementos no conjunto\n",
    "y = 2 in s # verifica se o número 2 está no conjunto\n",
    "z = 3 in s # verifica se o número 3 está no conjunto\n",
    "print(x, y, z) # imprime o número de elementos e os resultados das verificações"
   ]
  },
  {
   "cell_type": "markdown",
   "metadata": {},
   "source": [
    "Usaremos os conjuntos por dois motivos importantes. Primeiro, o in é uma operaçào mito rapida em conjuntos. Pra aplicar um teste de associação em uma grande coleção de itens, é melhor usar um conjunto do que uma lista:"
   ]
  },
  {
   "cell_type": "code",
   "execution_count": 5,
   "metadata": {},
   "outputs": [
    {
     "data": {
      "text/plain": [
       "False"
      ]
     },
     "execution_count": 5,
     "metadata": {},
     "output_type": "execute_result"
    }
   ],
   "source": [
    "\n",
    "# Define hundreds_of_others_words as a placeholder list of words\n",
    "hundreds_of_others_words = [\"the\", \"and\", \"is\", \"in\", \"to\", \"of\", \"for\", \"on\", \"with\"]\n",
    "\n",
    "stopwords_list = ['a', 'an', 'at'] + list(hundreds_of_others_words) + [\"yet\", \"you\"]\n",
    "\"zip\" in stopwords_list"
   ]
  },
  {
   "cell_type": "code",
   "execution_count": null,
   "metadata": {},
   "outputs": [
    {
     "data": {
      "text/plain": [
       "False"
      ]
     },
     "execution_count": 15,
     "metadata": {},
     "output_type": "execute_result"
    }
   ],
   "source": [
    "stopwords_set = set(stopwords_list)\n",
    "zip in stopwords_set # forma  mais rápida de verificar se um elemento está em um conjunto"
   ]
  },
  {
   "cell_type": "markdown",
   "metadata": {},
   "source": [
    "Segundo, encontraremos itens distintos em uma coleção:"
   ]
  },
  {
   "cell_type": "code",
   "execution_count": null,
   "metadata": {},
   "outputs": [
    {
     "name": "stdout",
     "output_type": "stream",
     "text": [
      "6\n",
      "{1, 2, 3}\n",
      "3\n",
      "[1, 2, 3]\n"
     ]
    }
   ],
   "source": [
    "item_list = [1, 2, 3, 1, 2, 3]\n",
    "num_items = len(item_list) # conta a quantidade de items na lista \n",
    "print(num_items) # imprime a quantidade de items na lista\n",
    "\n",
    "item_set = set(item_list) # transforma a lista em um conjunto \n",
    "print(item_set) # imprime o conjunto de items\n",
    "\n",
    "num_distinct_items = len(item_set) # conta a quantidade de items distintos no conjunto\n",
    "print(num_distinct_items) # imprime a quantidade de items distintos no conjunto\n",
    "\n",
    "distinct_item_list = list(item_set) # transforma o conjunto em uma lista\n",
    "print(distinct_item_list) # imprime a lista de items distintos"
   ]
  }
 ],
 "metadata": {
  "kernelspec": {
   "display_name": ".venv",
   "language": "python",
   "name": "python3"
  },
  "language_info": {
   "codemirror_mode": {
    "name": "ipython",
    "version": 3
   },
   "file_extension": ".py",
   "mimetype": "text/x-python",
   "name": "python",
   "nbconvert_exporter": "python",
   "pygments_lexer": "ipython3",
   "version": "3.9.6"
  }
 },
 "nbformat": 4,
 "nbformat_minor": 2
}

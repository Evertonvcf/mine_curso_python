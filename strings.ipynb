{
 "cells": [
  {
   "cell_type": "markdown",
   "metadata": {},
   "source": [
    "# Strings (Cadeia de caracteres)\n",
    "\n",
    "### As strings podem ser delimitadas por aspas simples ou aspas duplas ( mas sempre combinando entre si)"
   ]
  },
  {
   "cell_type": "code",
   "execution_count": null,
   "metadata": {},
   "outputs": [],
   "source": [
    "single_quoted_string = 'data science'\n",
    "double_quoted_string = \"data science\""
   ]
  },
  {
   "cell_type": "markdown",
   "metadata": {},
   "source": [
    "### No Python, a barra invertida serve para codificar caracteres especiais. Por exemplo: "
   ]
  },
  {
   "cell_type": "code",
   "execution_count": null,
   "metadata": {},
   "outputs": [
    {
     "name": "stdout",
     "output_type": "stream",
     "text": [
      "1\n"
     ]
    }
   ],
   "source": [
    "tab_string = \"\\t\"   #representa o caracter tab \n",
    "print(len(tab_string)) # imprime o tamanho da string que é 1, pois a barra invertida ão é contabilizada"
   ]
  },
  {
   "cell_type": "markdown",
   "metadata": {},
   "source": [
    "### Para usar o caractere de barra invertida (como vemos nos nomes dos diretórios e nas expressões regulares do Windows), você pode criar strings brutas como r\"\";"
   ]
  },
  {
   "cell_type": "code",
   "execution_count": 4,
   "metadata": {},
   "outputs": [
    {
     "name": "stdout",
     "output_type": "stream",
     "text": [
      "2\n"
     ]
    }
   ],
   "source": [
    "not_tab_string = r\"\\t\"    # representa os caracteres \\ e t\n",
    "print(len(not_tab_string)) # imprime o tamanho da string que é 2, pois a barra invertida é contabilizada"
   ]
  },
  {
   "cell_type": "markdown",
   "metadata": {},
   "source": [
    "### Para criar strings de várias linhas, use três aspas duplas, escreva as strings da forma como você deseja "
   ]
  },
  {
   "cell_type": "code",
   "execution_count": 7,
   "metadata": {},
   "outputs": [
    {
     "name": "stdout",
     "output_type": "stream",
     "text": [
      "está é a primeira linha.\n",
      "está é a segunda linha.\n",
      "está é a terceira linha.\n",
      "\n"
     ]
    }
   ],
   "source": [
    "multi_line_string = \"\"\"está é a primeira linha.\n",
    "está é a segunda linha.\n",
    "está é a terceira linha.\n",
    "\"\"\"\n",
    "print(multi_line_string) # imprime a string com as quebras de linha"
   ]
  },
  {
   "cell_type": "markdown",
   "metadata": {},
   "source": [
    "### A partir do python 3.6 surgiu um novo recurso : a f-string, uma forma simples de substituir os valores nas strings. POr exemplo , quando o nome eo sobrenome são indicados separadamente."
   ]
  },
  {
   "cell_type": "code",
   "execution_count": 9,
   "metadata": {},
   "outputs": [],
   "source": [
    "first_name = \"Everton\"\n",
    "last_name = \"França\""
   ]
  },
  {
   "cell_type": "markdown",
   "metadata": {},
   "source": [
    "### Neste caso, queremos formar o nome completo com eles . Há varias formas de construir um string full_name \n"
   ]
  },
  {
   "cell_type": "code",
   "execution_count": 10,
   "metadata": {},
   "outputs": [],
   "source": [
    "full_name = first_name + \"\" + last_name   # concatena as strings ( método usando simbolo de adição )\n",
    "full_name2 = \"{0} {1}\".format(first_name, last_name) # concatena as strings ( método usando o format )\n",
    "full_name3 =f\"{first_name} {last_name}\" # concatena as strings ( método usando f-string )"
   ]
  },
  {
   "cell_type": "code",
   "execution_count": null,
   "metadata": {},
   "outputs": [],
   "source": []
  }
 ],
 "metadata": {
  "kernelspec": {
   "display_name": ".venv",
   "language": "python",
   "name": "python3"
  },
  "language_info": {
   "codemirror_mode": {
    "name": "ipython",
    "version": 3
   },
   "file_extension": ".py",
   "mimetype": "text/x-python",
   "name": "python",
   "nbconvert_exporter": "python",
   "pygments_lexer": "ipython3",
   "version": "3.9.6"
  }
 },
 "nbformat": 4,
 "nbformat_minor": 2
}

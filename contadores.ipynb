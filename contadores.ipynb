{
 "cells": [
  {
   "cell_type": "markdown",
   "metadata": {},
   "source": [
    "# Contadores"
   ]
  },
  {
   "cell_type": "markdown",
   "metadata": {},
   "source": [
    "# Contadores"
   ]
  },
  {
   "cell_type": "markdown",
   "metadata": {},
   "source": [
    "O Counter converte uma sequência de valores em algo parecido com o objeto defaultdict(int) mapeando aas chaves correspondentes às contagens:"
   ]
  },
  {
   "cell_type": "code",
   "execution_count": 5,
   "metadata": {},
   "outputs": [
    {
     "name": "stdout",
     "output_type": "stream",
     "text": [
      "Counter({0: 1, 1: 1, 2: 1, 3: 1, 4: 1})\n"
     ]
    }
   ],
   "source": [
    "from collections import Counter\n",
    "c = Counter([0, 1, 2, 3, 4])   # c é basicamente um dicionário {0: 2, 1: 1, 2: 1}\n",
    "print(c) #imprime o contador "
   ]
  },
  {
   "cell_type": "markdown",
   "metadata": {},
   "source": [
    "Essa é a uma forma bem simples de resolver o problema do world_counts\" "
   ]
  },
  {
   "cell_type": "code",
   "execution_count": 14,
   "metadata": {},
   "outputs": [
    {
     "name": "stdout",
     "output_type": "stream",
     "text": [
      "Counter({'world': 2, 'hello': 1, 'Python': 1, 'for': 1, 'Data': 1, 'Science': 1, 'have': 1, 'ten': 1, 'Word': 1})\n"
     ]
    }
   ],
   "source": [
    "# Lembre - se, o documents é uma lista de palavras que vimos no notebook anterior (exceções_e_lista.ipynb)\n",
    "# para esse exemplo, vamos criar novamente essa variavel\n",
    "documents  = [\"hello\",\"world\",\"world\",\"Python\",\"for\", \"Data\", \"Science\", \"have\", \"ten\",\"Word\"]\n",
    "word_counts = Counter(documents)\n",
    "print(word_counts) #imprime o contador"
   ]
  },
  {
   "cell_type": "markdown",
   "metadata": {},
   "source": [
    "Uma instancia Counter contém em método most_commom bastante útil:"
   ]
  },
  {
   "cell_type": "code",
   "execution_count": 18,
   "metadata": {},
   "outputs": [
    {
     "name": "stdout",
     "output_type": "stream",
     "text": [
      "world 2\n",
      "hello 1\n",
      "Python 1\n",
      "for 1\n",
      "Data 1\n",
      "Science 1\n",
      "have 1\n",
      "ten 1\n",
      "Word 1\n"
     ]
    }
   ],
   "source": [
    "#imprima as 10 palavras mais comuns e suas contagens \n",
    "for word, count in word_counts.most_common(10): #muito útil para fazer contegens  \n",
    "    print(word, count) "
   ]
  },
  {
   "cell_type": "code",
   "execution_count": null,
   "metadata": {},
   "outputs": [],
   "source": []
  }
 ],
 "metadata": {
  "kernelspec": {
   "display_name": ".venv",
   "language": "python",
   "name": "python3"
  },
  "language_info": {
   "codemirror_mode": {
    "name": "ipython",
    "version": 3
   },
   "file_extension": ".py",
   "mimetype": "text/x-python",
   "name": "python",
   "nbconvert_exporter": "python",
   "pygments_lexer": "ipython3",
   "version": "3.9.6"
  }
 },
 "nbformat": 4,
 "nbformat_minor": 2
}

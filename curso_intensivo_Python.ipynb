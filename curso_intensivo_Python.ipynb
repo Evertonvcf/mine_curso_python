{
 "cells": [
  {
   "cell_type": "markdown",
   "metadata": {},
   "source": [
    "# O zen do Python #"
   ]
  },
  {
   "cell_type": "code",
   "execution_count": 33,
   "metadata": {},
   "outputs": [
    {
     "name": "stdout",
     "output_type": "stream",
     "text": [
      "The Zen of Python, by Tim Peters\n",
      "\n",
      "Beautiful is better than ugly.\n",
      "Explicit is better than implicit.\n",
      "Simple is better than complex.\n",
      "Complex is better than complicated.\n",
      "Flat is better than nested.\n",
      "Sparse is better than dense.\n",
      "Readability counts.\n",
      "Special cases aren't special enough to break the rules.\n",
      "Although practicality beats purity.\n",
      "Errors should never pass silently.\n",
      "Unless explicitly silenced.\n",
      "In the face of ambiguity, refuse the temptation to guess.\n",
      "There should be one-- and preferably only one --obvious way to do it.\n",
      "Although that way may not be obvious at first unless you're Dutch.\n",
      "Now is better than never.\n",
      "Although never is often better than *right* now.\n",
      "If the implementation is hard to explain, it's a bad idea.\n",
      "If the implementation is easy to explain, it may be a good idea.\n",
      "Namespaces are one honking great idea -- let's do more of those!\n"
     ]
    }
   ],
   "source": [
    "import this"
   ]
  },
  {
   "cell_type": "markdown",
   "metadata": {},
   "source": [
    "# Função "
   ]
  },
  {
   "cell_type": "markdown",
   "metadata": {},
   "source": [
    "## função é uma regra que recebe 0 ou mais entradas e retorna  saida correspondente. Usamos def para definir funçoes em python."
   ]
  },
  {
   "cell_type": "code",
   "execution_count": null,
   "metadata": {},
   "outputs": [
    {
     "name": "stdout",
     "output_type": "stream",
     "text": [
      "68\n"
     ]
    }
   ],
   "source": [
    "def double(x):    #essa função deve retornar o dobro do valor de x \n",
    "    return x*2\n",
    "\n",
    "print(double(34))   # escreve na tela o valor do dobro do  argumento inserido na função double\n"
   ]
  },
  {
   "cell_type": "markdown",
   "metadata": {},
   "source": [
    "## As funções em python são de primeira classe o que significa que podemos atribui-lás a variaveis e também podemos insiri-las nas funçoes como argumento"
   ]
  },
  {
   "cell_type": "code",
   "execution_count": null,
   "metadata": {},
   "outputs": [
    {
     "name": "stdout",
     "output_type": "stream",
     "text": [
      "2\n"
     ]
    }
   ],
   "source": [
    "def aplly_to_one(f): # chama a função usando 1 como argumento\n",
    "    return f(1)\n",
    "\n",
    "my_double = double             # refere-se a função x já definida acima \n",
    "x = aplly_to_one(my_double)     # o resultado dessa função será 2 \n",
    "print(x)                        # printa o resultado na tela \n"
   ]
  },
  {
   "cell_type": "markdown",
   "metadata": {},
   "source": [
    "## Também podemos criar pequenas funções anonimas, as lambdas."
   ]
  },
  {
   "cell_type": "code",
   "execution_count": 24,
   "metadata": {},
   "outputs": [
    {
     "name": "stdout",
     "output_type": "stream",
     "text": [
      "5\n"
     ]
    }
   ],
   "source": [
    "y = aplly_to_one(lambda x: x + 4)      #o resultado será 5 \n",
    "print(y)                        # printa o resultado na tela"
   ]
  },
  {
   "cell_type": "markdown",
   "metadata": {},
   "source": [
    "## Você pode atribuir lambdas a variáveis, porém quase todo mundo recomende o def."
   ]
  },
  {
   "cell_type": "code",
   "execution_count": null,
   "metadata": {},
   "outputs": [
    {
     "name": "stdout",
     "output_type": "stream",
     "text": [
      "6\n"
     ]
    }
   ],
   "source": [
    "another_double = lambda x: 2 * x    # não faça isso (forma errada de fazer)\n",
    "\n",
    "def another_double(x):   # faça isso\n",
    "    return 2 * x\n",
    "print(another_double(3))   # o resultado será 6 "
   ]
  },
  {
   "cell_type": "markdown",
   "metadata": {},
   "source": [
    "## os parâmentros da função também podem receber argumentos padrão, que devem ser especificados se você quiser obter um valor diferente do padrão:"
   ]
  },
  {
   "cell_type": "code",
   "execution_count": null,
   "metadata": {},
   "outputs": [
    {
     "name": "stdout",
     "output_type": "stream",
     "text": [
      "hello\n",
      "my default message\n"
     ]
    }
   ],
   "source": [
    "def my_print(message = \"my default message\"):\n",
    "    print(message)\n",
    "\n",
    "my_print(\"hello\")      # imprime a messagem hello   \n",
    "my_print()              # imprime my default message "
   ]
  },
  {
   "cell_type": "markdown",
   "metadata": {},
   "source": [
    "## As vezes é util especificar argumentos pelo nome:"
   ]
  },
  {
   "cell_type": "code",
   "execution_count": null,
   "metadata": {},
   "outputs": [],
   "source": [
    "def full_name(first = \"What's-his-name\", last = \"Something\"): # É uma função com dois argumentos nomeados por strings\n",
    "    return first + \"\" + last\n",
    "full_name(\"Everton\",\"França\") # imprime Everton França\n",
    "full_name(\"Everton\")          # Se passar apenas um agumento vai imprimir Everton e a string padrão Something\n",
    "full_name(last = \"França\")    #Se passar o segundo argumento apenas , imprime a string padrÃo What's-his-name e o segundo França"
   ]
  }
 ],
 "metadata": {
  "kernelspec": {
   "display_name": ".venv",
   "language": "python",
   "name": "python3"
  },
  "language_info": {
   "codemirror_mode": {
    "name": "ipython",
    "version": 3
   },
   "file_extension": ".py",
   "mimetype": "text/x-python",
   "name": "python",
   "nbconvert_exporter": "python",
   "pygments_lexer": "ipython3",
   "version": "3.9.6"
  }
 },
 "nbformat": 4,
 "nbformat_minor": 2
}

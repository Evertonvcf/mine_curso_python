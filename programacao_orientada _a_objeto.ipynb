{
 "cells": [
  {
   "cell_type": "markdown",
   "metadata": {},
   "source": [
    "# Programação Orientada a Objeto (POO)"
   ]
  },
  {
   "cell_type": "markdown",
   "metadata": {},
   "source": []
  },
  {
   "cell_type": "code",
   "execution_count": 19,
   "metadata": {},
   "outputs": [],
   "source": [
    "class CountingClicker:\n",
    "    \"\"\"A classe pode/deve ter um docstring, como as funções\"\"\""
   ]
  },
  {
   "cell_type": "markdown",
   "metadata": {},
   "source": [
    "Uma classe contém zaro ou mais funções de membro. Por convenção, cada função recebe um primeiro parâmetro, self, que se refere à instância da classe específica.\n",
    "    Em geral, a classe tem um construtor chamado __init__, que recebe todos os parâmetros necessários para construir um instancia da classe e implementar as configrações:"
   ]
  },
  {
   "cell_type": "code",
   "execution_count": null,
   "metadata": {},
   "outputs": [],
   "source": [
    "def __init__(self, count = 0): # há um espaço após o def \n",
    "     self.count = count\n",
    "     clicker1 = CountingClicker()\n",
    "     clicker2 = CountingClicker(100) \n",
    "     clicker3 = CountingClicker(count =100)\n",
    "      \n",
    "    "
   ]
  },
  {
   "cell_type": "markdown",
   "metadata": {},
   "source": [
    "Embora o construtor tenha um nome engraçado, criamos as instâncias do contador usando apenas o nome da classe:"
   ]
  },
  {
   "cell_type": "code",
   "execution_count": 4,
   "metadata": {},
   "outputs": [],
   "source": [
    "#clicker1 = CountingClicker()\n",
    "#clicker2 = CountingClicker(100) \n",
    "#clicker3 = CountingClicker(count =100)"
   ]
  },
  {
   "cell_type": "markdown",
   "metadata": {},
   "source": [
    "Outro método como esse é o __repr__, que produz a representação de string de uma instância de classe:"
   ]
  },
  {
   "cell_type": "code",
   "execution_count": 15,
   "metadata": {},
   "outputs": [],
   "source": [
    "def _repr_(self):\n",
    "    return f\"CountingClicker(count={self.count})\""
   ]
  },
  {
   "cell_type": "markdown",
   "metadata": {},
   "source": [
    "E finalmente, precisamos implementar a API pública da classe: "
   ]
  },
  {
   "cell_type": "code",
   "execution_count": 22,
   "metadata": {},
   "outputs": [],
   "source": [
    "def click(self, num_times = 1):\n",
    "    \"\"\"Aumenta o contador em num_times\"\"\"\n",
    "    self.count += num_times \n",
    "def read(self):\n",
    "    return self.count\n",
    "def reset(self):\n",
    "    \"\"\"Reseta o contador para 0\"\"\"\n",
    "    self.count = 0    "
   ]
  },
  {
   "cell_type": "markdown",
   "metadata": {},
   "source": [
    "Depois de defini-lo, usaremos o assert para escrever casos de teste para o contador:"
   ]
  },
  {
   "cell_type": "code",
   "execution_count": null,
   "metadata": {},
   "outputs": [],
   "source": [
    "clicker = CountingClicker()\n",
    "assert clicker.read() == 0, \"should start with count 0\"\n",
    "clicker.click()\n",
    "clicker.click()\n",
    "assert clicker.read() == 2, \"after two clicks, clicker should have count 2 \"\n",
    "clicker.reset()\n",
    "assert clicker.read() == 0,\"after reset, clicker should be back to 0\""
   ]
  },
  {
   "cell_type": "code",
   "execution_count": null,
   "metadata": {},
   "outputs": [],
   "source": []
  }
 ],
 "metadata": {
  "kernelspec": {
   "display_name": ".venv",
   "language": "python",
   "name": "python3"
  },
  "language_info": {
   "codemirror_mode": {
    "name": "ipython",
    "version": 3
   },
   "file_extension": ".py",
   "mimetype": "text/x-python",
   "name": "python",
   "nbconvert_exporter": "python",
   "pygments_lexer": "ipython3",
   "version": "3.9.6"
  }
 },
 "nbformat": 4,
 "nbformat_minor": 2
}

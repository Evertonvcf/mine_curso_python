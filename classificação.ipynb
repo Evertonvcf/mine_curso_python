{
 "cells": [
  {
   "cell_type": "markdown",
   "metadata": {},
   "source": [
    "# Classificação"
   ]
  },
  {
   "cell_type": "markdown",
   "metadata": {},
   "source": [
    "No Python, toda lista tem um método sort que a organiza e, para não baguça - l, você pode usar a função sorted, que retorna uma nova lista:"
   ]
  },
  {
   "cell_type": "code",
   "execution_count": null,
   "metadata": {},
   "outputs": [
    {
     "name": "stdout",
     "output_type": "stream",
     "text": [
      "[1, 2, 3, 4] [1, 2, 3, 4]\n"
     ]
    }
   ],
   "source": [
    "x = [4, 1, 2, 3]\n",
    "y = sorted(x) # y será uma lista ordenada do x \n",
    "x.sort() # esse método faz o mesmo que o codigo acima x será uma lista ordenada do x\n",
    "print(x,y) # [1, 2, 3, 4]"
   ]
  },
  {
   "cell_type": "markdown",
   "metadata": {},
   "source": [
    "Por padrão sort e sorted organizam a lista do menor para o maior elemento com base em uma modesta comparação entre eles:\n",
    "\n",
    "Para organizar elementos do maior para o menor, você pode especificar o paramêtro reverse = True. E, para comparar os resultados de uma função especificada ( em vez de avaliar os elementos), use key:"
   ]
  },
  {
   "cell_type": "code",
   "execution_count": 6,
   "metadata": {},
   "outputs": [
    {
     "name": "stdout",
     "output_type": "stream",
     "text": [
      "[-4, 3, -2, 1]\n"
     ]
    }
   ],
   "source": [
    "# classifique a lista por valor absoluto do maior para o menor \n",
    "x = sorted([-4, 1, -2, 3], key=abs, reverse=True)\n",
    "print(x) "
   ]
  },
  {
   "cell_type": "code",
   "execution_count": 2,
   "metadata": {},
   "outputs": [],
   "source": [
    "# exemplo de contagem de palavras\n",
    "word_counts = {'apple': 3, 'banana': 5, 'cherry': 2}\n",
    "\n",
    "# classifique as palavras e contagens do maior para o menor \n",
    "wc = sorted(word_counts.items(), key=lambda word_and_count: word_and_count[1], reverse=True)"
   ]
  },
  {
   "cell_type": "markdown",
   "metadata": {},
   "source": []
  },
  {
   "cell_type": "code",
   "execution_count": null,
   "metadata": {},
   "outputs": [],
   "source": []
  }
 ],
 "metadata": {
  "kernelspec": {
   "display_name": ".venv",
   "language": "python",
   "name": "python3"
  },
  "language_info": {
   "codemirror_mode": {
    "name": "ipython",
    "version": 3
   },
   "file_extension": ".py",
   "mimetype": "text/x-python",
   "name": "python",
   "nbconvert_exporter": "python",
   "pygments_lexer": "ipython3",
   "version": "3.9.6"
  }
 },
 "nbformat": 4,
 "nbformat_minor": 2
}

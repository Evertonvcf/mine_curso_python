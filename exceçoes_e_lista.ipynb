{
 "cells": [
  {
   "cell_type": "markdown",
   "metadata": {},
   "source": [
    "## Exceções\n",
    "## quando algo dá errado, o python gera uma exceção, se ão forem tratadas as exceçOes causarão falhas no programa. Para trata-las, você pode usar try e except.  "
   ]
  },
  {
   "cell_type": "code",
   "execution_count": 14,
   "metadata": {},
   "outputs": [
    {
     "name": "stdout",
     "output_type": "stream",
     "text": [
      "Cannot divide by zero\n"
     ]
    }
   ],
   "source": [
    "try:\n",
    "    print(0/0) # ao tentar essa condição \n",
    "except ZeroDivisionError:   \n",
    "    print(\"Cannot divide by zero\") # dispara essa exceção inves do erro"
   ]
  },
  {
   "cell_type": "markdown",
   "metadata": {},
   "source": [
    "## "
   ]
  },
  {
   "cell_type": "markdown",
   "metadata": {},
   "source": [
    "## listas\n",
    "Provavelmente, a estrutura de dados mais fundamental do Python. Uma lista é apenas uma coleção orrdenada."
   ]
  },
  {
   "cell_type": "code",
   "execution_count": 1,
   "metadata": {},
   "outputs": [
    {
     "name": "stdout",
     "output_type": "stream",
     "text": [
      "3\n",
      "6\n"
     ]
    }
   ],
   "source": [
    "integer_list = [1, 2, 3] # lista de inteiros\n",
    "heterogeneous_list = [\"strings\", 0.1, True] # lista heterogênea com valores de diferentes tipos\n",
    "list_of_lists = [integer_list, heterogeneous_list,[]] # lista de listas \n",
    "list_length = len(integer_list) #será igual a 3\n",
    "print(list_length)\n",
    "list_sum = sum(integer_list) #o resultado será a soma dos elementos da lista, ou seja, 6\n",
    "print(list_sum)\n"
   ]
  },
  {
   "cell_type": "markdown",
   "metadata": {},
   "source": [
    "## Você também pode usar os colchetes para fatiar as listas\n",
    "As fatias i:j contém todos os elementos de i (incluindo) a j (não incluido). Se o inicio da fatia não for indicadom ela começará no inicio da lista: se o final da fatia não for indicado, ela terminará no final da lista   "
   ]
  },
  {
   "cell_type": "code",
   "execution_count": 2,
   "metadata": {},
   "outputs": [
    {
     "name": "stdout",
     "output_type": "stream",
     "text": [
      "[0, 1, 2, 3, 4, 5, 6, 7, 8, 9, 10] [0, 1, 2, 3, 4, 5, 6, 7, 8, 9, 10]\n"
     ]
    }
   ],
   "source": [
    "x = [0,1,2,3,4,5,6,7,8,9,10] # lista de inteiros\n",
    "first_three = x[:3] # acessa os três primeiros elementos da lista\n",
    "three_to_end = x[3:] # acessa os elementos a partir do quarto até o final\n",
    "one_to_four = x[1:5] # acessa os elementos do segundo ao quinto\n",
    "last_three = x[-3:] # acessa os três últimos elementos da lista\n",
    "without_first_and_last = x[-1:1] # acessa todos os elementos, exceto o primeiro e o último\n",
    "copy_for_x = x[:]    # cria uma cópia da lista x\n",
    "print(x,copy_for_x)"
   ]
  },
  {
   "cell_type": "markdown",
   "metadata": {},
   "source": [
    "Do mesmo modo, você pode fatiar strings e outros tipos de \"sequencias\".\n",
    "A fatia pode receber um terceiro argumento para indicar seu stride, que pode ser negativo:"
   ]
  },
  {
   "cell_type": "code",
   "execution_count": 3,
   "metadata": {},
   "outputs": [
    {
     "name": "stdout",
     "output_type": "stream",
     "text": [
      "[0, 3, 6, 9]\n"
     ]
    }
   ],
   "source": [
    "every_third = x[::3]    # acessa todos os elementos da lista, pulando de três em três\n",
    "print(every_third)"
   ]
  },
  {
   "cell_type": "code",
   "execution_count": 4,
   "metadata": {},
   "outputs": [
    {
     "name": "stdout",
     "output_type": "stream",
     "text": [
      "[5, 4, 3]\n"
     ]
    }
   ],
   "source": [
    "five_to_three = x[5:2:-1]       #começa do índice 5 e vai até o índice 2, mas não inclui o índice 2\n",
    "print(five_to_three)"
   ]
  },
  {
   "cell_type": "markdown",
   "metadata": {},
   "source": [
    "O Python dispõe de um operador in para verificar a associação a lista:"
   ]
  },
  {
   "cell_type": "code",
   "execution_count": 5,
   "metadata": {},
   "outputs": [
    {
     "data": {
      "text/plain": [
       "False"
      ]
     },
     "execution_count": 5,
     "metadata": {},
     "output_type": "execute_result"
    }
   ],
   "source": [
    "1 in [1, 2, 3]  #(True) verdadeiro\n",
    "0 in [1, 2, 3]  #(False) falso\n"
   ]
  },
  {
   "cell_type": "markdown",
   "metadata": {},
   "source": [
    "Para acrescentar itens a uma lista podemos usar o .append"
   ]
  },
  {
   "cell_type": "code",
   "execution_count": 6,
   "metadata": {},
   "outputs": [
    {
     "name": "stdout",
     "output_type": "stream",
     "text": [
      "[0, 1, 2, 3, 4, 5, 6, 7, 8, 9, 10, '11']\n"
     ]
    }
   ],
   "source": [
    "x.append(\"11\") # adiciona o elemento 11 ao final da lista\n",
    "print(x)"
   ]
  },
  {
   "cell_type": "markdown",
   "metadata": {},
   "source": []
  },
  {
   "cell_type": "markdown",
   "metadata": {},
   "source": [
    "## Tuplas "
   ]
  },
  {
   "cell_type": "markdown",
   "metadata": {},
   "source": [
    "As tuplas são muito parecidas com as listas, mas não podem ser modificadas. Para especificar as tuplas use parenteses os nada."
   ]
  },
  {
   "cell_type": "code",
   "execution_count": 7,
   "metadata": {},
   "outputs": [
    {
     "name": "stdout",
     "output_type": "stream",
     "text": [
      "Cannot modify a tuple\n"
     ]
    }
   ],
   "source": [
    "my_list = [1,2] # cria uma lista com os elementos 1, 2\n",
    "my_tuple = (1,2) #cria uma tupla com dois elementos 1,2\n",
    "other_tuple = 3,4 #cria uma tupla,porém não usa parênteses\n",
    "\n",
    "try:\n",
    "    my_tuple[1] = 3 #tenta alterar o segundo elemento da tupla\n",
    "except TypeError:\n",
    "    print(\"Cannot modify a tuple\")\n"
   ]
  },
  {
   "cell_type": "markdown",
   "metadata": {},
   "source": [
    "As tuplas são uma forma eficaz de usar funções para retornar múltiplos valores:"
   ]
  },
  {
   "cell_type": "code",
   "execution_count": 8,
   "metadata": {},
   "outputs": [
    {
     "name": "stdout",
     "output_type": "stream",
     "text": [
      "(5, 6) 15 50\n"
     ]
    }
   ],
   "source": [
    "def sum_and_product(x,y): # a função irá somar e multiplicar dois valores\n",
    "    return(x+y),(x*y)\n",
    "sp = sum_and_product(2,3) #chama a função e armazenas os resultados em sp que são 5 e 6\n",
    "s,p = sum_and_product(5,10) # chama afunção e armazena os resultados em s (15) e p (50)\n",
    "print (sp, s,p) \n",
    "    "
   ]
  },
  {
   "cell_type": "markdown",
   "metadata": {},
   "source": [
    "As tuplas e as listas também podem ser usadas em atribuições múltiplas:\n"
   ]
  },
  {
   "cell_type": "code",
   "execution_count": 9,
   "metadata": {},
   "outputs": [
    {
     "name": "stdout",
     "output_type": "stream",
     "text": [
      "1 2\n"
     ]
    }
   ],
   "source": [
    "x, y = 1, 2 # atribui 1 a x e 2 a y \n",
    "x, y = y, x # forma pythonic de trocar valores agora x é 2 e y é 1\n",
    "print(y,x)"
   ]
  },
  {
   "cell_type": "markdown",
   "metadata": {},
   "source": [
    "# Dicionários"
   ]
  },
  {
   "cell_type": "markdown",
   "metadata": {},
   "source": [
    "Outra estrutura fundamental em python é o dicionário, que associa valores a chaves e permite a rápida recuperação de valor correspondente a uma determinada chave:"
   ]
  },
  {
   "cell_type": "code",
   "execution_count": 10,
   "metadata": {},
   "outputs": [
    {
     "name": "stdout",
     "output_type": "stream",
     "text": [
      "{'Everton': 34, 'Agatha': 4}\n"
     ]
    }
   ],
   "source": [
    "empty_dict = {}  #forma pythonic de criar um dicionário vazio\n",
    "empty_dict2 = dict() # outra forma de criar um dicionário vazio menos pythonic\n",
    "grades = {\"Everton\": 34, \"Agatha\": 4} # cria um dicionário com chaves \"Everton\" e \"Agatha\" e valores 34 e 4 respectivamente\n",
    "print(grades)\n"
   ]
  },
  {
   "cell_type": "markdown",
   "metadata": {},
   "source": [
    "Para pesquisar o valor de uma chave, você pode usar colchetes:"
   ]
  },
  {
   "cell_type": "code",
   "execution_count": 11,
   "metadata": {},
   "outputs": [
    {
     "name": "stdout",
     "output_type": "stream",
     "text": [
      "34\n"
     ]
    }
   ],
   "source": [
    "everton_grade = grades[\"Everton\"]\n",
    "print(everton_grade)"
   ]
  },
  {
   "cell_type": "markdown",
   "metadata": {},
   "source": [
    "Mas aparecerá uma KeyError se você procurar uma chave que não está no dicionário:\n"
   ]
  },
  {
   "cell_type": "code",
   "execution_count": 12,
   "metadata": {},
   "outputs": [
    {
     "name": "stdout",
     "output_type": "stream",
     "text": [
      "Thaina cannot be found in grades\n"
     ]
    }
   ],
   "source": [
    "try:\n",
    "    thaina_grade = grades[\"Thaina\"]\n",
    "except KeyError:\n",
    "    print(\"Thaina cannot be found in grades\")"
   ]
  },
  {
   "cell_type": "markdown",
   "metadata": {},
   "source": [
    "Para verificar a existência de uma chave, você pode usar o in :"
   ]
  },
  {
   "cell_type": "code",
   "execution_count": 13,
   "metadata": {},
   "outputs": [
    {
     "name": "stdout",
     "output_type": "stream",
     "text": [
      "True False\n"
     ]
    }
   ],
   "source": [
    "everton_has_grade = \"Everton\"in grades # verifica se a chave \"Everton\" está no dicionário grades\n",
    "thaina_has_grade = \"Thaina\" in grades #  verifica se a chave \"Thaina\"  está no dicionário grades\n",
    "print(everton_has_grade, thaina_has_grade) # imprime True False"
   ]
  },
  {
   "cell_type": "markdown",
   "metadata": {},
   "source": [
    "Essa verificação de associação é rapida até em dicionários grandes.\n",
    "\n",
    "Nos dicionários, o método get retorna um valor padrão ( em vez de gerar uma exceção) quando você procura por uma chave que não está no dicionário:"
   ]
  },
  {
   "cell_type": "code",
   "execution_count": 17,
   "metadata": {},
   "outputs": [
    {
     "name": "stdout",
     "output_type": "stream",
     "text": [
      "34\n",
      "0\n",
      "None\n"
     ]
    }
   ],
   "source": [
    "everton_grade = grades.get(\"Everton\",0) # retorna o valor 34 associado à chave \"Everton\"\n",
    "print(everton_grade) # imprime 34\n",
    "thaina_grade = grades.get(\"Thaina\",0) # retorna o valor 0 \n",
    "print(thaina_grade)\n",
    "no_ones_grade = grades.get(\"No One\") # retorna None que é o padrão \n",
    "print(no_ones_grade) # imprime None"
   ]
  },
  {
   "cell_type": "markdown",
   "metadata": {},
   "source": [
    "Você também pode atribuir pares de valor-chave usando os colchetes:\n"
   ]
  },
  {
   "cell_type": "code",
   "execution_count": 18,
   "metadata": {},
   "outputs": [
    {
     "name": "stdout",
     "output_type": "stream",
     "text": [
      "3\n"
     ]
    }
   ],
   "source": [
    "grades[\"Everton\"] = 35 # substitui o valos anterior de 34 para 35 \n",
    "grades[\"thaina\"] = 100 # adiciona a chave \"Thaina\" com o valor 100\n",
    "my_family_members = len(grades) #verifica o tamanho do dicionario \n",
    "print(my_family_members) # imprime o tamanho do dicionário"
   ]
  },
  {
   "cell_type": "markdown",
   "metadata": {},
   "source": [
    "Como vimos no Capitlo 1, os dicionários podem representar dados estruturados:"
   ]
  },
  {
   "cell_type": "code",
   "execution_count": 21,
   "metadata": {},
   "outputs": [
    {
     "name": "stdout",
     "output_type": "stream",
     "text": [
      "{'user': 'Everton França', 'text': 'Data Science is awesome', 'retweets_count': 100, 'Hashtags': ['#data', '#science', '#datascience', '#awesome', '#yolo']}\n"
     ]
    }
   ],
   "source": [
    "tweet = {\n",
    "    \"user\" : \"Everton França\",\n",
    "    \"text\" : \"Data Science is awesome\",\n",
    "    \"retweets_count\" : 100,\n",
    "    \"Hashtags\" : [\"#data\", \"#science\",\"#datascience\",\"#awesome\", \"#yolo\"]}\n",
    "print(tweet) # imprime o dicionário tweet"
   ]
  },
  {
   "cell_type": "markdown",
   "metadata": {},
   "source": [
    "Além de procurar por chaves especificas, podemos conferir todas elas:"
   ]
  },
  {
   "cell_type": "code",
   "execution_count": 26,
   "metadata": {},
   "outputs": [
    {
     "name": "stdout",
     "output_type": "stream",
     "text": [
      "dict_keys(['user', 'text', 'retweets_count', 'Hashtags'])\n",
      "dict_values(['Everton França', 'Data Science is awesome', 100, ['#data', '#science', '#datascience', '#awesome', '#yolo']])\n",
      "dict_items([('user', 'Everton França'), ('text', 'Data Science is awesome'), ('retweets_count', 100), ('Hashtags', ['#data', '#science', '#datascience', '#awesome', '#yolo'])])\n"
     ]
    }
   ],
   "source": [
    "tweet_keys = tweet.keys() # retorna as chaves do dicionário tweet\n",
    "\n",
    "print(tweet_keys) # imprime as chaves do dicionário tweet\n",
    "\n",
    "tweet_values = tweet.values() # retorna os valores do dicionário\n",
    "\n",
    "print(tweet_values) # imprime os valores do dicionário tweet\n",
    "\n",
    "tweet_items = tweet.items() # retorna os itens do dicionário\n",
    "\n",
    "print(tweet_items) # imprime os itens do dicionário tweet separadamente como chave e valor"
   ]
  },
  {
   "cell_type": "markdown",
   "metadata": {},
   "source": [
    "## Defaultdict"
   ]
  },
  {
   "cell_type": "markdown",
   "metadata": {},
   "source": [
    "Imagine que você deseja contar as palavras de um documento. Uma abordagem seria criar um dicionário com chaves para palavras e valores para a contagem. Ao verificar cada palavra, você pode incrementar a contagem ( se ele já estiver no dicionário)ou adicioná-la ao dicionaário caso ainda não esteja lá. "
   ]
  },
  {
   "cell_type": "code",
   "execution_count": null,
   "metadata": {},
   "outputs": [
    {
     "name": "stdout",
     "output_type": "stream",
     "text": [
      "{'hello': 1, 'world': 2, 'Python': 1, 'for': 1, 'Data': 1, 'Science': 1}\n",
      "6\n"
     ]
    }
   ],
   "source": [
    "document = [\"hello\",\"world\",\"world\",\"Python\",\"for\", \"Data\", \"Science\"]\n",
    "word_counts = {} # cria um dicionário vazio\n",
    "for word in document:\n",
    "    if word in word_counts:\n",
    "        word_counts[word] +=1\n",
    "    else:\n",
    "        word_counts[word] =1 \n",
    "print(word_counts) # imprime o dicionário word_counts e o numero de palavras que existem  \n",
    "word_counts = len(word_counts)      # conta o número de palavras diferentes no dicionário word_counts   \n",
    "print(word_counts) # imprime o dicionário word_counts"
   ]
  },
  {
   "cell_type": "markdown",
   "metadata": {},
   "source": [
    "Você também pode usar o método \"é melhor pedir perdão do que permissão\", tratando a exceção gerada na pesquisa pela chave ausente."
   ]
  },
  {
   "cell_type": "code",
   "execution_count": 47,
   "metadata": {},
   "outputs": [
    {
     "name": "stdout",
     "output_type": "stream",
     "text": [
      "{'hello': 1, 'world': 2, 'Python': 1, 'for': 1, 'Data': 1, 'Science': 1} \n",
      " 6\n"
     ]
    }
   ],
   "source": [
    "word_counts ={}\n",
    "for word in document:\n",
    "    try:\n",
    "        word_counts[word] +=1\n",
    "    except KeyError:\n",
    "        word_counts[word] =1\n",
    "print(word_counts,\"\\n\", len(word_counts)) # imprime o dicionário word_counts e o numero de palavras que existem  e o tamanho do dicionário word_counts      "
   ]
  },
  {
   "cell_type": "markdown",
   "metadata": {},
   "source": [
    "Uma terceira abordagem  é usar o get, que lida de forma muito interessante com chaves ausentes."
   ]
  },
  {
   "cell_type": "code",
   "execution_count": 56,
   "metadata": {},
   "outputs": [
    {
     "name": "stdout",
     "output_type": "stream",
     "text": [
      "{'hello': 1} \n",
      " 1\n",
      "{'hello': 1, 'world': 1} \n",
      " 2\n",
      "{'hello': 1, 'world': 2} \n",
      " 2\n",
      "{'hello': 1, 'world': 2, 'Python': 1} \n",
      " 3\n",
      "{'hello': 1, 'world': 2, 'Python': 1, 'for': 1} \n",
      " 4\n",
      "{'hello': 1, 'world': 2, 'Python': 1, 'for': 1, 'Data': 1} \n",
      " 5\n",
      "{'hello': 1, 'world': 2, 'Python': 1, 'for': 1, 'Data': 1, 'Science': 1} \n",
      " 6\n"
     ]
    }
   ],
   "source": [
    "word_counts ={}\n",
    "for word in document:\n",
    "    previous_count = word_counts.get(word, 0) # retorna o valor associado à chave word ou 0 se a chave não existir\n",
    "    word_counts[word] = previous_count + 1 #atualiza o valor associado à chave word\n",
    "    print(word_counts, \"\\n\",len(word_counts)) # imprime o dicionário word_counts e o numero de palavras que existem"
   ]
  },
  {
   "cell_type": "markdown",
   "metadata": {},
   "source": [
    "Mas como esses métodos são um tanto quanto complicado, o defaultdict é um bom recurso. Embora pareça em dicionário comum, quando procuramos uma chave que não está contida nele, ele adicona um valor para ela usando a função de argumento zero que indicamos ao criá-lo. Para usar os defauldicts, você deve importá-los das colletions :"
   ]
  },
  {
   "cell_type": "code",
   "execution_count": 55,
   "metadata": {},
   "outputs": [
    {
     "name": "stdout",
     "output_type": "stream",
     "text": [
      "defaultdict(<class 'int'>, {'hello': 1, 'world': 2, 'Python': 1, 'for': 1, 'Data': 1, 'Science': 1})\n"
     ]
    }
   ],
   "source": [
    "from collections import defaultdict as dd # importa a classe defaultdict com o alias dd\n",
    "\n",
    "word_counts = dd(int) #int() produz um valor padrão de 0\n",
    "for word in document:\n",
    "    word_counts[word] +=1 #incrementa o valor associado à chave word\n",
    "print(word_counts) # imprime o dicionário word_counts "
   ]
  },
  {
   "cell_type": "markdown",
   "metadata": {},
   "source": [
    "Esses recursos são uteis com list, dict e outras funções:"
   ]
  },
  {
   "cell_type": "code",
   "execution_count": 59,
   "metadata": {},
   "outputs": [
    {
     "name": "stdout",
     "output_type": "stream",
     "text": [
      "defaultdict(<class 'list'>, {2: [1]})\n",
      "defaultdict(<class 'dict'>, {'Everton': {'City': 'São Paulo'}})\n",
      "defaultdict(<function <lambda> at 0x2cdb1ba60>, {2: [0, 1]})\n"
     ]
    }
   ],
   "source": [
    "dd_list = dd(list) #cria um dicionário com listas como valores padrão\n",
    "dd_list[2].append(1) # agora dd_list contém (2:[1])\n",
    "print(dd_list) # imprime o dicionário dd_list\n",
    "\n",
    "dd_dict = dd(dict) # list()produz um dict vazio\n",
    "dd_dict[\"Everton\"][\"City\"] = \"São Paulo\" # agora dd_dict contém (\"Everton\": {\"City\":\"São Paulo\"})\n",
    "print(dd_dict) # imprime o dicionário dd_dict\n",
    "\n",
    "dd_pair = dd(lambda:[0, 0])\n",
    "dd_pair[2][1]= 1 # agora dd_pair contém (2:[0,1])\n",
    "print(dd_pair) # imprime o dicionário dd_pair"
   ]
  },
  {
   "cell_type": "code",
   "execution_count": null,
   "metadata": {},
   "outputs": [],
   "source": []
  }
 ],
 "metadata": {
  "kernelspec": {
   "display_name": ".venv",
   "language": "python",
   "name": "python3"
  },
  "language_info": {
   "codemirror_mode": {
    "name": "ipython",
    "version": 3
   },
   "file_extension": ".py",
   "mimetype": "text/x-python",
   "name": "python",
   "nbconvert_exporter": "python",
   "pygments_lexer": "ipython3",
   "version": "3.9.6"
  }
 },
 "nbformat": 4,
 "nbformat_minor": 2
}
